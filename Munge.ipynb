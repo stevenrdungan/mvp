{
 "cells": [
  {
   "cell_type": "code",
   "execution_count": 34,
   "metadata": {
    "collapsed": false
   },
   "outputs": [],
   "source": [
    "import os\n",
    "import re\n",
    "import pandas as pd\n",
    "import numpy as np\n",
    "\n",
    "voting, east, west = pd.DataFrame(), pd.DataFrame(), pd.DataFrame()\n",
    "year = 2000\n",
    "directory = \"/Users/stevendungan/mvp/scrapedata\"\n",
    "for filename in os.listdir(\"/Users/stevendungan/mvp/scrapedata\"):\n",
    "    # read voting data into dataframe\n",
    "    if re.match(f\"mvp_voting_{year}.csv\", filename):\n",
    "        voting = pd.read_csv(os.path.join(directory,filename))\n",
    "    # read standings data into dataframe\n",
    "    elif re.match(f\"[a-z]+s_standings_E_{year}.csv\", filename):\n",
    "        east = pd.read_csv(os.path.join(directory,filename))\n",
    "    elif re.match(f\"[a-z]+s_standings_W_{year}.csv\", filename):\n",
    "        west = pd.read_csv(os.path.join(directory,filename))\n"
   ]
  },
  {
   "cell_type": "code",
   "execution_count": null,
   "metadata": {
    "collapsed": true
   },
   "outputs": [],
   "source": []
  }
 ],
 "metadata": {
  "kernelspec": {
   "display_name": "Python 3",
   "language": "python",
   "name": "python3"
  },
  "language_info": {
   "codemirror_mode": {
    "name": "ipython",
    "version": 3
   },
   "file_extension": ".py",
   "mimetype": "text/x-python",
   "name": "python",
   "nbconvert_exporter": "python",
   "pygments_lexer": "ipython3",
   "version": "3.6.0"
  }
 },
 "nbformat": 4,
 "nbformat_minor": 2
}
